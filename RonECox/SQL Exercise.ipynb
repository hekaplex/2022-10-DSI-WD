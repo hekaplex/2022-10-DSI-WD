{
    "metadata": {
        "kernelspec": {
            "name": "SQL",
            "display_name": "SQL",
            "language": "sql"
        },
        "language_info": {
            "name": "sql",
            "version": ""
        }
    },
    "nbformat_minor": 2,
    "nbformat": 4,
    "cells": [
        {
            "cell_type": "markdown",
            "source": [
                "### SQL Exercise One\r\n",
                "1. Pick one or more database from any server \r\n",
                "1. Write three queries\r\n",
                "    1. Write a business question\r\n",
                "    1. use across your queries all of the following clauses, at least one but not in very query \r\n",
                "        1. JOIN\r\n",
                "        1. WHERE\r\n",
                "        1. HAVING\r\n",
                "        1. Aggregate function *SUM, COUNT, AVG. etc*\r\n",
                "        1. IIF\r\n",
                "        1. FROM \r\n",
                "        1. GROUP BY\r\n",
                "        1. ORDER BY\r\n",
                "1. Include the results \r\n",
                "    1. inline in Data Studio notebook\r\n",
                "    1. in Excel\r\n",
                "    1. inline in the .SQL files\r\n",
                "1. Commit work to GIthub when complete\r\n",
                "1. Ask for help if you get stuck        "
            ],
            "metadata": {
                "azdata_cell_guid": "5df36851-5a07-4988-9f24-b332f57fd55b"
            },
            "attachments": {}
        },
        {
            "cell_type": "markdown",
            "source": [
                "## Business Question:\r\n",
                "### Which sales people are the top performers based on average sales?\r\n",
                "\r\n",
                "__This query includes the following requirements:__\r\n",
                "\r\n",
                "- Join\r\n",
                "- Having\r\n",
                "- Aggregate\r\n",
                "- IIF\r\n",
                "- From\r\n",
                "- Group By\r\n",
                "- Order By"
            ],
            "metadata": {
                "azdata_cell_guid": "cae20b9f-e0fc-4cda-a867-912319731947"
            },
            "attachments": {}
        },
        {
            "cell_type": "code",
            "source": [
                "SELECT SalesPersonID, AVG(TotalDue) AS TotalSales, IIF(AVG(TotalDue) > 25000, 'Top Performer', 'No Bonus') AS EmpSalesStatus\r\n",
                "\r\n",
                "FROM Sales.SalesOrderHeader AS tSales\r\n",
                "\r\n",
                "INNER JOIN Sales.SalesPerson as tPerson ON tPerson.BusinessEntityID = tSales.SalesPersonID\r\n",
                "\r\n",
                "GROUP BY SalesPersonID\r\n",
                "\r\n",
                "HAVING IIF(AVG(TotalDue) > 25000, 'Top Performer', 'No Bonus') = 'Top Performer'\r\n",
                "\r\n",
                "ORDER BY TotalSales DESC"
            ],
            "metadata": {
                "azdata_cell_guid": "e3b04b77-4500-4495-910a-236a9d9e75fa",
                "language": "sql"
            },
            "outputs": [
                {
                    "output_type": "display_data",
                    "data": {
                        "text/html": "(6 rows affected)"
                    },
                    "metadata": {}
                },
                {
                    "output_type": "display_data",
                    "data": {
                        "text/html": "Total execution time: 00:00:00.044"
                    },
                    "metadata": {}
                },
                {
                    "output_type": "execute_result",
                    "metadata": {},
                    "execution_count": 3,
                    "data": {
                        "application/vnd.dataresource+json": {
                            "schema": {
                                "fields": [
                                    {
                                        "name": "SalesPersonID"
                                    },
                                    {
                                        "name": "TotalSales"
                                    },
                                    {
                                        "name": "EmpSalesStatus"
                                    }
                                ]
                            },
                            "data": [
                                {
                                    "0": "280",
                                    "1": "39455.2223",
                                    "2": "Top Performer"
                                },
                                {
                                    "0": "281",
                                    "1": "29998.2143",
                                    "2": "Top Performer"
                                },
                                {
                                    "0": "290",
                                    "1": "29074.1554",
                                    "2": "Top Performer"
                                },
                                {
                                    "0": "276",
                                    "1": "27978.5144",
                                    "2": "Top Performer"
                                },
                                {
                                    "0": "289",
                                    "1": "27543.4624",
                                    "2": "Top Performer"
                                },
                                {
                                    "0": "274",
                                    "1": "25748.6342",
                                    "2": "Top Performer"
                                }
                            ]
                        },
                        "text/html": [
                            "<table>",
                            "<tr><th>SalesPersonID</th><th>TotalSales</th><th>EmpSalesStatus</th></tr>",
                            "<tr><td>280</td><td>39455.2223</td><td>Top Performer</td></tr>",
                            "<tr><td>281</td><td>29998.2143</td><td>Top Performer</td></tr>",
                            "<tr><td>290</td><td>29074.1554</td><td>Top Performer</td></tr>",
                            "<tr><td>276</td><td>27978.5144</td><td>Top Performer</td></tr>",
                            "<tr><td>289</td><td>27543.4624</td><td>Top Performer</td></tr>",
                            "<tr><td>274</td><td>25748.6342</td><td>Top Performer</td></tr>",
                            "</table>"
                        ]
                    }
                }
            ],
            "execution_count": 3
        },
        {
            "cell_type": "markdown",
            "source": [
                "## Business Question:\r\n",
                "### Which employees will NOT receive a bonus?\r\n",
                "\r\n",
                "__This query includes the following requirements:__\r\n",
                "\r\n",
                "- Join\r\n",
                "- Where\r\n",
                "- Having\r\n",
                "- Aggregate\r\n",
                "- IIF\r\n",
                "- From\r\n",
                "- Group By\r\n",
                "- Order By"
            ],
            "metadata": {
                "azdata_cell_guid": "b2488504-8b81-47dd-9819-7de97c8ee7f9"
            },
            "attachments": {}
        },
        {
            "cell_type": "code",
            "source": [
                "SELECT *\r\n",
                "\r\n",
                "FROM\r\n",
                "\r\n",
                "(SELECT SalesPersonID, AVG(TotalDue) AS TotalSales, IIF(AVG(TotalDue) > 25000, 'Top Performer', 'No Bonus') AS EmpSalesStatus\r\n",
                "\r\n",
                "FROM Sales.SalesOrderHeader AS tSales\r\n",
                "\r\n",
                "INNER JOIN Sales.SalesPerson as tPerson ON tPerson.BusinessEntityID = tSales.SalesPersonID\r\n",
                "\r\n",
                "GROUP BY SalesPersonID) AS Subqry\r\n",
                "\r\n",
                "WHERE EmpSalesStatus = 'No Bonus'\r\n",
                "\r\n",
                "ORDER BY SalesPersonID"
            ],
            "metadata": {
                "azdata_cell_guid": "89266981-4902-4ec7-8b9b-0a541c4a5786",
                "language": "sql"
            },
            "outputs": [
                {
                    "output_type": "display_data",
                    "data": {
                        "text/html": "(11 rows affected)"
                    },
                    "metadata": {}
                },
                {
                    "output_type": "display_data",
                    "data": {
                        "text/html": "Total execution time: 00:00:00.057"
                    },
                    "metadata": {}
                },
                {
                    "output_type": "execute_result",
                    "metadata": {},
                    "execution_count": 4,
                    "data": {
                        "application/vnd.dataresource+json": {
                            "schema": {
                                "fields": [
                                    {
                                        "name": "SalesPersonID"
                                    },
                                    {
                                        "name": "TotalSales"
                                    },
                                    {
                                        "name": "EmpSalesStatus"
                                    }
                                ]
                            },
                            "data": [
                                {
                                    "0": "275",
                                    "1": "23278.5935",
                                    "2": "No Bonus"
                                },
                                {
                                    "0": "277",
                                    "1": "23979.6742",
                                    "2": "No Bonus"
                                },
                                {
                                    "0": "278",
                                    "1": "17390.6932",
                                    "2": "No Bonus"
                                },
                                {
                                    "0": "279",
                                    "1": "18848.6565",
                                    "2": "No Bonus"
                                },
                                {
                                    "0": "282",
                                    "1": "24662.4968",
                                    "2": "No Bonus"
                                },
                                {
                                    "0": "283",
                                    "1": "22263.9926",
                                    "2": "No Bonus"
                                },
                                {
                                    "0": "284",
                                    "1": "18629.4026",
                                    "2": "No Bonus"
                                },
                                {
                                    "0": "285",
                                    "1": "12220.5489",
                                    "2": "No Bonus"
                                },
                                {
                                    "0": "286",
                                    "1": "14737.9949",
                                    "2": "No Bonus"
                                },
                                {
                                    "0": "287",
                                    "1": "21190.1914",
                                    "2": "No Bonus"
                                },
                                {
                                    "0": "288",
                                    "1": "15864.5625",
                                    "2": "No Bonus"
                                }
                            ]
                        },
                        "text/html": [
                            "<table>",
                            "<tr><th>SalesPersonID</th><th>TotalSales</th><th>EmpSalesStatus</th></tr>",
                            "<tr><td>275</td><td>23278.5935</td><td>No Bonus</td></tr>",
                            "<tr><td>277</td><td>23979.6742</td><td>No Bonus</td></tr>",
                            "<tr><td>278</td><td>17390.6932</td><td>No Bonus</td></tr>",
                            "<tr><td>279</td><td>18848.6565</td><td>No Bonus</td></tr>",
                            "<tr><td>282</td><td>24662.4968</td><td>No Bonus</td></tr>",
                            "<tr><td>283</td><td>22263.9926</td><td>No Bonus</td></tr>",
                            "<tr><td>284</td><td>18629.4026</td><td>No Bonus</td></tr>",
                            "<tr><td>285</td><td>12220.5489</td><td>No Bonus</td></tr>",
                            "<tr><td>286</td><td>14737.9949</td><td>No Bonus</td></tr>",
                            "<tr><td>287</td><td>21190.1914</td><td>No Bonus</td></tr>",
                            "<tr><td>288</td><td>15864.5625</td><td>No Bonus</td></tr>",
                            "</table>"
                        ]
                    }
                }
            ],
            "execution_count": 4
        },
        {
            "cell_type": "markdown",
            "source": [
                "## Business Question:\r\n",
                "### What are the weekly sales stats by week number?\r\n",
                "\r\n",
                "__This query includes the following requirements:__\r\n",
                "\r\n",
                "- Aggregate\r\n",
                "- From\r\n",
                "- Group By\r\n",
                "- Order By"
            ],
            "metadata": {
                "azdata_cell_guid": "607e2bc6-f3a1-4888-9a18-ac83480b4845"
            },
            "attachments": {}
        },
        {
            "cell_type": "code",
            "source": [
                "SELECT \r\n",
                "    CAST(DATENAME(WEEK, OrderDate) AS numeric) AS DayOfWeek, \r\n",
                "    SUM(TotalDue) AS WeeklySum, AVG(TotalDue) AS WeeklyAverage,\r\n",
                "    MIN(TotalDue) AS WeeklyMin, MAX(TotalDue) AS WeeklyMax\r\n",
                "\r\n",
                "FROM sales.SalesOrderHeader\r\n",
                "\r\n",
                "GROUP BY CAST(DATENAME(WEEK, OrderDate) AS numeric)\r\n",
                "\r\n",
                "ORDER BY CAST(DATENAME(WEEK, OrderDate) AS numeric)\r\n",
                ""
            ],
            "metadata": {
                "azdata_cell_guid": "c182bf38-9992-4817-ab35-2157dcb5b31e",
                "language": "sql"
            },
            "outputs": [
                {
                    "output_type": "display_data",
                    "data": {
                        "text/html": "(53 rows affected)"
                    },
                    "metadata": {}
                },
                {
                    "output_type": "display_data",
                    "data": {
                        "text/html": "Total execution time: 00:00:00.069"
                    },
                    "metadata": {}
                },
                {
                    "output_type": "execute_result",
                    "metadata": {},
                    "execution_count": 22,
                    "data": {
                        "application/vnd.dataresource+json": {
                            "schema": {
                                "fields": [
                                    {
                                        "name": "DayOfWeek"
                                    },
                                    {
                                        "name": "WeeklySum"
                                    },
                                    {
                                        "name": "WeeklyAverage"
                                    },
                                    {
                                        "name": "WeeklyMin"
                                    },
                                    {
                                        "name": "WeeklyMax"
                                    }
                                ]
                            },
                            "data": [
                                {
                                    "0": "1",
                                    "1": "2644166.1752",
                                    "2": "5968.7724",
                                    "3": "2.5305",
                                    "4": "101020.1731"
                                },
                                {
                                    "0": "2",
                                    "1": "685567.8703",
                                    "2": "1264.8853",
                                    "3": "2.5305",
                                    "4": "3953.9884"
                                },
                                {
                                    "0": "3",
                                    "1": "636437.5362",
                                    "2": "1124.4479",
                                    "3": "2.5305",
                                    "4": "3953.9884"
                                },
                                {
                                    "0": "4",
                                    "1": "672250.699",
                                    "2": "1249.5366",
                                    "3": "2.5305",
                                    "4": "3953.9884"
                                },
                                {
                                    "0": "5",
                                    "1": "7149301.0332",
                                    "2": "7970.2352",
                                    "3": "2.5305",
                                    "4": "109340.8212"
                                },
                                {
                                    "0": "6",
                                    "1": "635749.044",
                                    "2": "1139.3352",
                                    "3": "2.5305",
                                    "4": "3953.9884"
                                },
                                {
                                    "0": "7",
                                    "1": "690359.3285",
                                    "2": "1290.3912",
                                    "3": "2.5305",
                                    "4": "3953.9884"
                                },
                                {
                                    "0": "8",
                                    "1": "610726.6711",
                                    "2": "1133.0736",
                                    "3": "2.5305",
                                    "4": "3953.9884"
                                },
                                {
                                    "0": "9",
                                    "1": "6258118.4437",
                                    "2": "8299.8918",
                                    "3": "2.5305",
                                    "4": "130907.0496"
                                },
                                {
                                    "0": "10",
                                    "1": "667140.8459",
                                    "2": "1128.8339",
                                    "3": "2.5305",
                                    "4": "3953.9884"
                                },
                                {
                                    "0": "11",
                                    "1": "704108.3104",
                                    "2": "1233.1143",
                                    "3": "2.5305",
                                    "4": "3953.9884"
                                },
                                {
                                    "0": "12",
                                    "1": "685597.7834",
                                    "2": "1192.3439",
                                    "3": "2.5305",
                                    "4": "3953.9884"
                                },
                                {
                                    "0": "13",
                                    "1": "6628005.8569",
                                    "2": "7788.491",
                                    "3": "2.5305",
                                    "4": "118581.3375"
                                },
                                {
                                    "0": "14",
                                    "1": "4539946.7257",
                                    "2": "5366.3672",
                                    "3": "2.5305",
                                    "4": "126514.9931"
                                },
                                {
                                    "0": "15",
                                    "1": "761847.3446",
                                    "2": "1211.204",
                                    "3": "2.5305",
                                    "4": "3953.9884"
                                },
                                {
                                    "0": "16",
                                    "1": "772585.4396",
                                    "2": "1274.8934",
                                    "3": "2.5305",
                                    "4": "3953.9884"
                                },
                                {
                                    "0": "17",
                                    "1": "750866.358",
                                    "2": "1290.1483",
                                    "3": "2.5305",
                                    "4": "3953.9884"
                                },
                                {
                                    "0": "18",
                                    "1": "7985103.6335",
                                    "2": "8503.8377",
                                    "3": "2.5305",
                                    "4": "117819.3126"
                                },
                                {
                                    "0": "19",
                                    "1": "858656.6551",
                                    "2": "1335.3913",
                                    "3": "2.5305",
                                    "4": "3953.9884"
                                },
                                {
                                    "0": "20",
                                    "1": "836649.9271",
                                    "2": "1256.2311",
                                    "3": "2.5305",
                                    "4": "3953.9884"
                                },
                                {
                                    "0": "21",
                                    "1": "842083.8551",
                                    "2": "1279.7626",
                                    "3": "2.5305",
                                    "4": "3953.9884"
                                },
                                {
                                    "0": "22",
                                    "1": "6477243.3392",
                                    "2": "8314.8181",
                                    "3": "2.5305",
                                    "4": "187487.825"
                                },
                                {
                                    "0": "23",
                                    "1": "985413.5984",
                                    "2": "2132.9298",
                                    "3": "2.5305",
                                    "4": "48204.0662"
                                },
                                {
                                    "0": "24",
                                    "1": "469813.1393",
                                    "2": "1151.5027",
                                    "3": "2.5305",
                                    "4": "3953.9884"
                                },
                                {
                                    "0": "25",
                                    "1": "467689.4182",
                                    "2": "1095.2913",
                                    "3": "2.5305",
                                    "4": "3953.9884"
                                },
                                {
                                    "0": "26",
                                    "1": "4544304.8509",
                                    "2": "8028.8071",
                                    "3": "2.5305",
                                    "4": "166537.0808"
                                },
                                {
                                    "0": "27",
                                    "1": "6985808.2008",
                                    "2": "9203.9633",
                                    "3": "1.5183",
                                    "4": "145454.366"
                                },
                                {
                                    "0": "28",
                                    "1": "470562.3546",
                                    "2": "1020.7426",
                                    "3": "2.5305",
                                    "4": "3953.9884"
                                },
                                {
                                    "0": "29",
                                    "1": "466949.602",
                                    "2": "1035.3649",
                                    "3": "2.5305",
                                    "4": "3953.9884"
                                },
                                {
                                    "0": "30",
                                    "1": "477987.5685",
                                    "2": "1036.8493",
                                    "3": "2.5305",
                                    "4": "3953.9884"
                                },
                                {
                                    "0": "31",
                                    "1": "8311245.6697",
                                    "2": "11277.1311",
                                    "3": "2.5305",
                                    "4": "165028.7482"
                                },
                                {
                                    "0": "32",
                                    "1": "1819164.5956",
                                    "2": "3616.6294",
                                    "3": "2.5305",
                                    "4": "102525.9874"
                                },
                                {
                                    "0": "33",
                                    "1": "456934.0432",
                                    "2": "957.933",
                                    "3": "2.5305",
                                    "4": "3953.9884"
                                },
                                {
                                    "0": "34",
                                    "1": "505102.7748",
                                    "2": "1067.8705",
                                    "3": "2.5305",
                                    "4": "3953.9884"
                                },
                                {
                                    "0": "35",
                                    "1": "5055959.7003",
                                    "2": "7974.6998",
                                    "3": "2.5305",
                                    "4": "182018.6272"
                                },
                                {
                                    "0": "36",
                                    "1": "1411023.7886",
                                    "2": "2713.5072",
                                    "3": "2.5305",
                                    "4": "98932.197"
                                },
                                {
                                    "0": "37",
                                    "1": "550863.2626",
                                    "2": "1184.6521",
                                    "3": "2.5305",
                                    "4": "3953.9884"
                                },
                                {
                                    "0": "38",
                                    "1": "559882.2118",
                                    "2": "1178.6993",
                                    "3": "2.5305",
                                    "4": "3953.9884"
                                },
                                {
                                    "0": "39",
                                    "1": "424981.3002",
                                    "2": "983.753",
                                    "3": "2.5305",
                                    "4": "3953.9884"
                                },
                                {
                                    "0": "40",
                                    "1": "10469898.2148",
                                    "2": "11951.9386",
                                    "3": "2.5305",
                                    "4": "142312.2199"
                                },
                                {
                                    "0": "41",
                                    "1": "534234.5255",
                                    "2": "1176.728",
                                    "3": "2.5305",
                                    "4": "3953.9884"
                                },
                                {
                                    "0": "42",
                                    "1": "542283.8478",
                                    "2": "1134.485",
                                    "3": "2.5305",
                                    "4": "3953.9884"
                                },
                                {
                                    "0": "43",
                                    "1": "566545.4572",
                                    "2": "1133.0909",
                                    "3": "2.5305",
                                    "4": "3953.9884"
                                },
                                {
                                    "0": "44",
                                    "1": "7068054.4882",
                                    "2": "8247.4381",
                                    "3": "2.5305",
                                    "4": "113231.0188"
                                },
                                {
                                    "0": "45",
                                    "1": "2668305.1039",
                                    "2": "3929.7571",
                                    "3": "2.5305",
                                    "4": "117373.1283"
                                },
                                {
                                    "0": "46",
                                    "1": "807178.3671",
                                    "2": "1295.6314",
                                    "3": "2.5305",
                                    "4": "3953.9884"
                                },
                                {
                                    "0": "47",
                                    "1": "754806.9316",
                                    "2": "1314.9946",
                                    "3": "2.5305",
                                    "4": "3953.9884"
                                },
                                {
                                    "0": "48",
                                    "1": "4058641.5927",
                                    "2": "5567.4095",
                                    "3": "2.5305",
                                    "4": "106406.1069"
                                },
                                {
                                    "0": "49",
                                    "1": "1422074.2166",
                                    "2": "2539.4182",
                                    "3": "4.409",
                                    "4": "82490.9371"
                                },
                                {
                                    "0": "50",
                                    "1": "598833.2932",
                                    "2": "1140.6348",
                                    "3": "2.5305",
                                    "4": "3953.9884"
                                },
                                {
                                    "0": "51",
                                    "1": "602793.0954",
                                    "2": "1137.3454",
                                    "3": "2.5305",
                                    "4": "3953.9884"
                                },
                                {
                                    "0": "52",
                                    "1": "619291.9087",
                                    "2": "1214.2978",
                                    "3": "2.5305",
                                    "4": "3953.9884"
                                },
                                {
                                    "0": "53",
                                    "1": "6047646.118",
                                    "2": "10975.7642",
                                    "3": "4.409",
                                    "4": "121823.1946"
                                }
                            ]
                        },
                        "text/html": [
                            "<table>",
                            "<tr><th>DayOfWeek</th><th>WeeklySum</th><th>WeeklyAverage</th><th>WeeklyMin</th><th>WeeklyMax</th></tr>",
                            "<tr><td>1</td><td>2644166.1752</td><td>5968.7724</td><td>2.5305</td><td>101020.1731</td></tr>",
                            "<tr><td>2</td><td>685567.8703</td><td>1264.8853</td><td>2.5305</td><td>3953.9884</td></tr>",
                            "<tr><td>3</td><td>636437.5362</td><td>1124.4479</td><td>2.5305</td><td>3953.9884</td></tr>",
                            "<tr><td>4</td><td>672250.699</td><td>1249.5366</td><td>2.5305</td><td>3953.9884</td></tr>",
                            "<tr><td>5</td><td>7149301.0332</td><td>7970.2352</td><td>2.5305</td><td>109340.8212</td></tr>",
                            "<tr><td>6</td><td>635749.044</td><td>1139.3352</td><td>2.5305</td><td>3953.9884</td></tr>",
                            "<tr><td>7</td><td>690359.3285</td><td>1290.3912</td><td>2.5305</td><td>3953.9884</td></tr>",
                            "<tr><td>8</td><td>610726.6711</td><td>1133.0736</td><td>2.5305</td><td>3953.9884</td></tr>",
                            "<tr><td>9</td><td>6258118.4437</td><td>8299.8918</td><td>2.5305</td><td>130907.0496</td></tr>",
                            "<tr><td>10</td><td>667140.8459</td><td>1128.8339</td><td>2.5305</td><td>3953.9884</td></tr>",
                            "<tr><td>11</td><td>704108.3104</td><td>1233.1143</td><td>2.5305</td><td>3953.9884</td></tr>",
                            "<tr><td>12</td><td>685597.7834</td><td>1192.3439</td><td>2.5305</td><td>3953.9884</td></tr>",
                            "<tr><td>13</td><td>6628005.8569</td><td>7788.491</td><td>2.5305</td><td>118581.3375</td></tr>",
                            "<tr><td>14</td><td>4539946.7257</td><td>5366.3672</td><td>2.5305</td><td>126514.9931</td></tr>",
                            "<tr><td>15</td><td>761847.3446</td><td>1211.204</td><td>2.5305</td><td>3953.9884</td></tr>",
                            "<tr><td>16</td><td>772585.4396</td><td>1274.8934</td><td>2.5305</td><td>3953.9884</td></tr>",
                            "<tr><td>17</td><td>750866.358</td><td>1290.1483</td><td>2.5305</td><td>3953.9884</td></tr>",
                            "<tr><td>18</td><td>7985103.6335</td><td>8503.8377</td><td>2.5305</td><td>117819.3126</td></tr>",
                            "<tr><td>19</td><td>858656.6551</td><td>1335.3913</td><td>2.5305</td><td>3953.9884</td></tr>",
                            "<tr><td>20</td><td>836649.9271</td><td>1256.2311</td><td>2.5305</td><td>3953.9884</td></tr>",
                            "<tr><td>21</td><td>842083.8551</td><td>1279.7626</td><td>2.5305</td><td>3953.9884</td></tr>",
                            "<tr><td>22</td><td>6477243.3392</td><td>8314.8181</td><td>2.5305</td><td>187487.825</td></tr>",
                            "<tr><td>23</td><td>985413.5984</td><td>2132.9298</td><td>2.5305</td><td>48204.0662</td></tr>",
                            "<tr><td>24</td><td>469813.1393</td><td>1151.5027</td><td>2.5305</td><td>3953.9884</td></tr>",
                            "<tr><td>25</td><td>467689.4182</td><td>1095.2913</td><td>2.5305</td><td>3953.9884</td></tr>",
                            "<tr><td>26</td><td>4544304.8509</td><td>8028.8071</td><td>2.5305</td><td>166537.0808</td></tr>",
                            "<tr><td>27</td><td>6985808.2008</td><td>9203.9633</td><td>1.5183</td><td>145454.366</td></tr>",
                            "<tr><td>28</td><td>470562.3546</td><td>1020.7426</td><td>2.5305</td><td>3953.9884</td></tr>",
                            "<tr><td>29</td><td>466949.602</td><td>1035.3649</td><td>2.5305</td><td>3953.9884</td></tr>",
                            "<tr><td>30</td><td>477987.5685</td><td>1036.8493</td><td>2.5305</td><td>3953.9884</td></tr>",
                            "<tr><td>31</td><td>8311245.6697</td><td>11277.1311</td><td>2.5305</td><td>165028.7482</td></tr>",
                            "<tr><td>32</td><td>1819164.5956</td><td>3616.6294</td><td>2.5305</td><td>102525.9874</td></tr>",
                            "<tr><td>33</td><td>456934.0432</td><td>957.933</td><td>2.5305</td><td>3953.9884</td></tr>",
                            "<tr><td>34</td><td>505102.7748</td><td>1067.8705</td><td>2.5305</td><td>3953.9884</td></tr>",
                            "<tr><td>35</td><td>5055959.7003</td><td>7974.6998</td><td>2.5305</td><td>182018.6272</td></tr>",
                            "<tr><td>36</td><td>1411023.7886</td><td>2713.5072</td><td>2.5305</td><td>98932.197</td></tr>",
                            "<tr><td>37</td><td>550863.2626</td><td>1184.6521</td><td>2.5305</td><td>3953.9884</td></tr>",
                            "<tr><td>38</td><td>559882.2118</td><td>1178.6993</td><td>2.5305</td><td>3953.9884</td></tr>",
                            "<tr><td>39</td><td>424981.3002</td><td>983.753</td><td>2.5305</td><td>3953.9884</td></tr>",
                            "<tr><td>40</td><td>10469898.2148</td><td>11951.9386</td><td>2.5305</td><td>142312.2199</td></tr>",
                            "<tr><td>41</td><td>534234.5255</td><td>1176.728</td><td>2.5305</td><td>3953.9884</td></tr>",
                            "<tr><td>42</td><td>542283.8478</td><td>1134.485</td><td>2.5305</td><td>3953.9884</td></tr>",
                            "<tr><td>43</td><td>566545.4572</td><td>1133.0909</td><td>2.5305</td><td>3953.9884</td></tr>",
                            "<tr><td>44</td><td>7068054.4882</td><td>8247.4381</td><td>2.5305</td><td>113231.0188</td></tr>",
                            "<tr><td>45</td><td>2668305.1039</td><td>3929.7571</td><td>2.5305</td><td>117373.1283</td></tr>",
                            "<tr><td>46</td><td>807178.3671</td><td>1295.6314</td><td>2.5305</td><td>3953.9884</td></tr>",
                            "<tr><td>47</td><td>754806.9316</td><td>1314.9946</td><td>2.5305</td><td>3953.9884</td></tr>",
                            "<tr><td>48</td><td>4058641.5927</td><td>5567.4095</td><td>2.5305</td><td>106406.1069</td></tr>",
                            "<tr><td>49</td><td>1422074.2166</td><td>2539.4182</td><td>4.409</td><td>82490.9371</td></tr>",
                            "<tr><td>50</td><td>598833.2932</td><td>1140.6348</td><td>2.5305</td><td>3953.9884</td></tr>",
                            "<tr><td>51</td><td>602793.0954</td><td>1137.3454</td><td>2.5305</td><td>3953.9884</td></tr>",
                            "<tr><td>52</td><td>619291.9087</td><td>1214.2978</td><td>2.5305</td><td>3953.9884</td></tr>",
                            "<tr><td>53</td><td>6047646.118</td><td>10975.7642</td><td>4.409</td><td>121823.1946</td></tr>",
                            "</table>"
                        ]
                    }
                }
            ],
            "execution_count": 22
        }
    ]
}
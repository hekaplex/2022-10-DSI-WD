{
 "cells": [
  {
   "cell_type": "code",
   "execution_count": 2,
   "metadata": {},
   "outputs": [
    {
     "data": {
      "text/plain": [
       "'C:\\\\'"
      ]
     },
     "execution_count": 2,
     "metadata": {},
     "output_type": "execute_result"
    }
   ],
   "source": [
    "\"\"\"\n",
    "multi-line comments\n",
    "creted by using\n",
    "three single quotes\n",
    "\"\"\"\n",
    "#declare a variable named \"var\" and assign the value of 'C:\\' to \"var\"\n",
    "var = \"C:\\\\\" \n",
    "#single line comment - set variable and use special character for '\\'\n",
    "var"
   ]
  },
  {
   "cell_type": "code",
   "execution_count": 4,
   "metadata": {},
   "outputs": [
    {
     "name": "stdout",
     "output_type": "stream",
     "text": [
      " Volume in drive C has no label.\n",
      " Volume Serial Number is 0CF2-974E\n",
      "\n",
      " Directory of C:\\\n",
      "\n",
      "12/08/2021  03:16 PM    <DIR>          2021_10_DSI_WD\n",
      "02/27/2022  09:05 AM    <DIR>          2021_10_DSI_WE\n",
      "06/12/2022  10:08 AM    <DIR>          2022-02-DSI-WE\n",
      "09/08/2022  09:04 PM    <DIR>          2022-07-DSI-WDX\n",
      "09/13/2022  09:16 PM    <DIR>          202207DSIWDX\n",
      "09/07/2022  03:16 PM    <DIR>          202208DSIWD\n",
      "03/09/2022  01:35 PM    <DIR>          2022_01_DSI_WD\n",
      "02/23/2022  04:34 PM    <DIR>          2022_01_DSI_WD-lastknowngood\n",
      "05/16/2022  12:44 PM    <DIR>          2022_03_DSI_WD\n",
      "06/18/2022  08:21 AM    <DIR>          arsnumerica\n",
      "08/01/2022  08:58 PM    <DIR>          Art\n",
      "02/23/2022  04:36 PM    <DIR>          backup\n",
      "03/05/2022  09:31 PM    <DIR>          bootstrap\n",
      "01/06/2021  10:39 AM    <DIR>          ComboKey\n",
      "01/08/2022  08:16 AM    <DIR>          Customer360\n",
      "02/13/2021  01:22 AM    <DIR>          cygwin64\n",
      "08/01/2022  10:53 AM    <DIR>          DIAD\n",
      "10/18/2021  11:46 AM    <DIR>          DIAD202110\n",
      "01/24/2022  12:15 PM    <DIR>          DIAD202201\n",
      "04/06/2022  04:04 PM    <DIR>          DIAD202204\n",
      "09/13/2022  09:39 PM    <DIR>          divergence\n",
      "09/06/2022  12:30 AM    <DIR>          Divergence_DSI_40\n",
      "09/17/2022  10:22 AM            12,288 DumpStack.log\n",
      "03/25/2022  09:14 AM    <DIR>          h2o\n",
      "02/10/2022  08:19 PM    <DIR>          hekahnsw\n",
      "12/08/2021  03:57 PM    <DIR>          hekaplex\n",
      "03/15/2022  10:27 AM    <DIR>          hierarchy\n",
      "09/09/2022  04:15 AM    <DIR>          HSPC\n",
      "02/12/2021  10:08 PM    <DIR>          java\n",
      "02/14/2022  02:01 PM    <DIR>          Kaggle\n",
      "04/27/2022  01:52 AM    <DIR>          lfs_worst\n",
      "05/05/2021  06:01 AM    <DIR>          logs\n",
      "08/28/2022  03:47 PM    <DIR>          MadmanminkinMLUnderground\n",
      "05/21/2021  02:29 PM    <DIR>          mlpbix\n",
      "03/04/2022  04:40 PM    <DIR>          ML_PBIX\n",
      "08/28/2022  03:38 PM    <DIR>          MMLU\n",
      "04/21/2022  01:25 PM    <DIR>          nbme\n",
      "04/21/2022  01:31 PM    <DIR>          nbme_redo\n",
      "08/28/2022  03:46 PM    <DIR>          New folder\n",
      "10/05/2021  02:43 PM    <DIR>          New folder (2)\n",
      "05/20/2022  05:22 PM    <DIR>          PartitionPractice\n",
      "09/05/2022  10:44 AM    <DIR>          Partner Solutions - DS, AI Bootcamp\n",
      "03/10/2022  03:45 PM    <DIR>          pBI_extract\n",
      "05/07/2022  12:24 AM    <DIR>          PerfLogs\n",
      "07/10/2022  03:09 PM    <DIR>          podvig\n",
      "06/08/2021  03:08 PM    <DIR>          PowerBI_AdvM\n",
      "08/04/2022  12:50 AM    <DIR>          PredixionReadmissionInsight\n",
      "09/10/2022  08:40 AM    <DIR>          Program Files\n",
      "09/10/2022  08:40 AM    <DIR>          Program Files (x86)\n",
      "05/06/2021  06:08 PM    <DIR>          Python39\n",
      "05/17/2021  02:38 PM             4,424 r.txt\n",
      "05/09/2022  10:24 AM    <DIR>          REDO_2022_03_DSI_WD\n",
      "12/09/2021  11:48 AM    <DIR>          repos\n",
      "05/13/2022  04:03 PM    <DIR>          samples\n",
      "03/22/2022  09:20 AM    <DIR>          sample_folder\n",
      "12/08/2021  03:25 PM    <DIR>          scratch\n",
      "08/11/2022  04:22 PM    <DIR>          SpikeRecorder.Win32.20171103\n",
      "05/24/2022  12:17 PM    <DIR>          sql-server-samples-master\n",
      "05/24/2022  12:11 PM       251,726,716 sql-server-samples-master.zip\n",
      "07/10/2021  03:44 PM    <DIR>          src\n",
      "07/17/2021  03:11 PM    <DIR>          src_dsi_we\n",
      "09/05/2022  12:06 AM    <DIR>          subtlerealm\n",
      "08/08/2021  11:55 AM    <DIR>          sub_bak_08081051\n",
      "08/03/2021  12:59 PM    <DIR>          sub_bak_1300\n",
      "02/15/2021  01:45 AM    <DIR>          SysinternalsSuite\n",
      "01/06/2021  10:30 AM    <DIR>          temp\n",
      "06/01/2022  03:33 PM    <DIR>          tkt\n",
      "03/04/2022  03:52 PM    <DIR>          tmp\n",
      "06/21/2022  08:21 AM             1,634 tracelog.txt\n",
      "09/10/2022  08:40 AM    <DIR>          Users\n",
      "09/17/2022  11:58 AM    <DIR>          Windows\n",
      "09/10/2022  08:47 AM    <DIR>          Windows.old\n",
      "05/14/2022  03:59 AM    <DIR>          XboxGames\n",
      "08/04/2022  07:01 AM    <DIR>          zilliantanalytics.tnb.com\n",
      "09/05/2022  10:44 AM    <DIR>          __MACOSX\n",
      "               4 File(s)    251,745,062 bytes\n",
      "              71 Dir(s)  150,614,048,768 bytes free\n"
     ]
    }
   ],
   "source": [
    "!dir $var"
   ]
  },
  {
   "cell_type": "code",
   "execution_count": 3,
   "metadata": {},
   "outputs": [
    {
     "name": "stdout",
     "output_type": "stream",
     "text": [
      " Volume in drive C has no label.\n",
      " Volume Serial Number is 0CF2-974E\n",
      "\n",
      " Directory of c:\\\n",
      "\n",
      "12/08/2021  03:16 PM    <DIR>          2021_10_DSI_WD\n",
      "02/27/2022  09:05 AM    <DIR>          2021_10_DSI_WE\n",
      "06/12/2022  10:08 AM    <DIR>          2022-02-DSI-WE\n",
      "09/08/2022  09:04 PM    <DIR>          2022-07-DSI-WDX\n",
      "09/13/2022  09:16 PM    <DIR>          202207DSIWDX\n",
      "09/07/2022  03:16 PM    <DIR>          202208DSIWD\n",
      "03/09/2022  01:35 PM    <DIR>          2022_01_DSI_WD\n",
      "02/23/2022  04:34 PM    <DIR>          2022_01_DSI_WD-lastknowngood\n",
      "05/16/2022  12:44 PM    <DIR>          2022_03_DSI_WD\n",
      "06/18/2022  08:21 AM    <DIR>          arsnumerica\n",
      "08/01/2022  08:58 PM    <DIR>          Art\n",
      "02/23/2022  04:36 PM    <DIR>          backup\n",
      "03/05/2022  09:31 PM    <DIR>          bootstrap\n",
      "01/06/2021  10:39 AM    <DIR>          ComboKey\n",
      "01/08/2022  08:16 AM    <DIR>          Customer360\n",
      "02/13/2021  01:22 AM    <DIR>          cygwin64\n",
      "08/01/2022  10:53 AM    <DIR>          DIAD\n",
      "10/18/2021  11:46 AM    <DIR>          DIAD202110\n",
      "01/24/2022  12:15 PM    <DIR>          DIAD202201\n",
      "04/06/2022  04:04 PM    <DIR>          DIAD202204\n",
      "09/13/2022  09:39 PM    <DIR>          divergence\n",
      "09/06/2022  12:30 AM    <DIR>          Divergence_DSI_40\n",
      "09/17/2022  10:22 AM            12,288 DumpStack.log\n",
      "03/25/2022  09:14 AM    <DIR>          h2o\n",
      "02/10/2022  08:19 PM    <DIR>          hekahnsw\n",
      "12/08/2021  03:57 PM    <DIR>          hekaplex\n",
      "03/15/2022  10:27 AM    <DIR>          hierarchy\n",
      "09/09/2022  04:15 AM    <DIR>          HSPC\n",
      "02/12/2021  10:08 PM    <DIR>          java\n",
      "02/14/2022  02:01 PM    <DIR>          Kaggle\n",
      "04/27/2022  01:52 AM    <DIR>          lfs_worst\n",
      "05/05/2021  06:01 AM    <DIR>          logs\n",
      "08/28/2022  03:47 PM    <DIR>          MadmanminkinMLUnderground\n",
      "05/21/2021  02:29 PM    <DIR>          mlpbix\n",
      "03/04/2022  04:40 PM    <DIR>          ML_PBIX\n",
      "08/28/2022  03:38 PM    <DIR>          MMLU\n",
      "04/21/2022  01:25 PM    <DIR>          nbme\n",
      "04/21/2022  01:31 PM    <DIR>          nbme_redo\n",
      "08/28/2022  03:46 PM    <DIR>          New folder\n",
      "10/05/2021  02:43 PM    <DIR>          New folder (2)\n",
      "05/20/2022  05:22 PM    <DIR>          PartitionPractice\n",
      "09/05/2022  10:44 AM    <DIR>          Partner Solutions - DS, AI Bootcamp\n",
      "03/10/2022  03:45 PM    <DIR>          pBI_extract\n",
      "05/07/2022  12:24 AM    <DIR>          PerfLogs\n",
      "07/10/2022  03:09 PM    <DIR>          podvig\n",
      "06/08/2021  03:08 PM    <DIR>          PowerBI_AdvM\n",
      "08/04/2022  12:50 AM    <DIR>          PredixionReadmissionInsight\n",
      "09/10/2022  08:40 AM    <DIR>          Program Files\n",
      "09/10/2022  08:40 AM    <DIR>          Program Files (x86)\n",
      "05/06/2021  06:08 PM    <DIR>          Python39\n",
      "05/17/2021  02:38 PM             4,424 r.txt\n",
      "05/09/2022  10:24 AM    <DIR>          REDO_2022_03_DSI_WD\n"
     ]
    },
    {
     "name": "stdout",
     "output_type": "stream",
     "text": [
      "12/09/2021  11:48 AM    <DIR>          repos\n",
      "05/13/2022  04:03 PM    <DIR>          samples\n",
      "03/22/2022  09:20 AM    <DIR>          sample_folder\n",
      "12/08/2021  03:25 PM    <DIR>          scratch\n",
      "08/11/2022  04:22 PM    <DIR>          SpikeRecorder.Win32.20171103\n",
      "05/24/2022  12:17 PM    <DIR>          sql-server-samples-master\n",
      "05/24/2022  12:11 PM       251,726,716 sql-server-samples-master.zip\n",
      "07/10/2021  03:44 PM    <DIR>          src\n",
      "07/17/2021  03:11 PM    <DIR>          src_dsi_we\n",
      "09/05/2022  12:06 AM    <DIR>          subtlerealm\n",
      "08/08/2021  11:55 AM    <DIR>          sub_bak_08081051\n",
      "08/03/2021  12:59 PM    <DIR>          sub_bak_1300\n",
      "02/15/2021  01:45 AM    <DIR>          SysinternalsSuite\n",
      "01/06/2021  10:30 AM    <DIR>          temp\n",
      "06/01/2022  03:33 PM    <DIR>          tkt\n",
      "03/04/2022  03:52 PM    <DIR>          tmp\n",
      "06/21/2022  08:21 AM             1,634 tracelog.txt\n",
      "09/10/2022  08:40 AM    <DIR>          Users\n",
      "09/17/2022  11:58 AM    <DIR>          Windows\n",
      "09/10/2022  08:47 AM    <DIR>          Windows.old\n",
      "05/14/2022  03:59 AM    <DIR>          XboxGames\n",
      "08/04/2022  07:01 AM    <DIR>          zilliantanalytics.tnb.com\n",
      "09/05/2022  10:44 AM    <DIR>          __MACOSX\n",
      "               4 File(s)    251,745,062 bytes\n",
      "              71 Dir(s)  150,613,872,640 bytes free\n"
     ]
    }
   ],
   "source": [
    "!dir c:\\"
   ]
  },
  {
   "cell_type": "code",
   "execution_count": null,
   "metadata": {},
   "outputs": [],
   "source": [
    "#Ex. code may have \"import pandas\"\n",
    "!pip install pandas"
   ]
  },
  {
   "cell_type": "code",
   "execution_count": null,
   "metadata": {},
   "outputs": [],
   "source": [
    "!pip install --upgrade pip --user"
   ]
  },
  {
   "cell_type": "code",
   "execution_count": 7,
   "metadata": {},
   "outputs": [],
   "source": [
    "#data types and input function invoked with the parameter value of  \"please type name\"\n",
    "# and assigned teh value of the input function to a variable\n",
    "name = input(\"please type name\")"
   ]
  },
  {
   "cell_type": "code",
   "execution_count": 8,
   "metadata": {},
   "outputs": [
    {
     "data": {
      "text/plain": [
       "'Drew Minkin'"
      ]
     },
     "execution_count": 8,
     "metadata": {},
     "output_type": "execute_result"
    }
   ],
   "source": [
    "name"
   ]
  },
  {
   "cell_type": "code",
   "execution_count": 9,
   "metadata": {},
   "outputs": [
    {
     "name": "stdout",
     "output_type": "stream",
     "text": [
      "Hello Drew Minkin\n"
     ]
    }
   ],
   "source": [
    "# print function concatenating variable using a \"+\" operator\n",
    "print(\"Hello \" + name)"
   ]
  },
  {
   "cell_type": "code",
   "execution_count": 13,
   "metadata": {},
   "outputs": [
    {
     "data": {
      "text/plain": [
       "bool"
      ]
     },
     "execution_count": 13,
     "metadata": {},
     "output_type": "execute_result"
    }
   ],
   "source": [
    "type(True)"
   ]
  },
  {
   "cell_type": "code",
   "execution_count": 10,
   "metadata": {},
   "outputs": [
    {
     "data": {
      "text/plain": [
       "str"
      ]
     },
     "execution_count": 10,
     "metadata": {},
     "output_type": "execute_result"
    }
   ],
   "source": [
    "type(name)"
   ]
  },
  {
   "cell_type": "code",
   "execution_count": 16,
   "metadata": {},
   "outputs": [
    {
     "name": "stdout",
     "output_type": "stream",
     "text": [
      "Hello person\tHello person\tHello person\tHello person\t\n"
     ]
    }
   ],
   "source": [
    "#ASCII art\n",
    "name = input(\"please type name\")\n",
    "#convert from str to int\n",
    "repeat = int(input(\"number of repeats\"))\n",
    "#add a return special character \n",
    "core_string = \"Hello \"+name+\"\\t\"\n",
    "print(core_string * repeat)"
   ]
  },
  {
   "cell_type": "markdown",
   "metadata": {},
   "source": [
    "# Assignment\n",
    "* create a variable for a string\n",
    "* use an input\n",
    "* repeat string a number of times from the input\n",
    "\n",
    "OR\n",
    "\n",
    "* code using any Python and scripting we've learn"
   ]
  },
  {
   "cell_type": "code",
   "execution_count": 2,
   "metadata": {},
   "outputs": [
    {
     "name": "stdout",
     "output_type": "stream",
     "text": [
      "bar\n"
     ]
    }
   ],
   "source": [
    "foo = \"bar\"\n",
    "print(foo)"
   ]
  },
  {
   "cell_type": "code",
   "execution_count": 4,
   "metadata": {},
   "outputs": [
    {
     "name": "stdout",
     "output_type": "stream",
     "text": [
      "test debugfoo\n"
     ]
    }
   ],
   "source": [
    "print(\"test debug\"+ input (\"test bug\"))"
   ]
  },
  {
   "cell_type": "code",
   "execution_count": 3,
   "metadata": {},
   "outputs": [
    {
     "name": "stdout",
     "output_type": "stream",
     "text": [
      "\u001b[1;31mInit signature:\u001b[0m \u001b[0mstr\u001b[0m\u001b[1;33m(\u001b[0m\u001b[0mself\u001b[0m\u001b[1;33m,\u001b[0m \u001b[1;33m/\u001b[0m\u001b[1;33m,\u001b[0m \u001b[1;33m*\u001b[0m\u001b[0margs\u001b[0m\u001b[1;33m,\u001b[0m \u001b[1;33m**\u001b[0m\u001b[0mkwargs\u001b[0m\u001b[1;33m)\u001b[0m\u001b[1;33m\u001b[0m\u001b[1;33m\u001b[0m\u001b[0m\n",
      "\u001b[1;31mDocstring:\u001b[0m     \n",
      "str(object='') -> str\n",
      "str(bytes_or_buffer[, encoding[, errors]]) -> str\n",
      "\n",
      "Create a new string object from the given object. If encoding or\n",
      "errors is specified, then the object must expose a data buffer\n",
      "that will be decoded using the given encoding and error handler.\n",
      "Otherwise, returns the result of object.__str__() (if defined)\n",
      "or repr(object).\n",
      "encoding defaults to sys.getdefaultencoding().\n",
      "errors defaults to 'strict'.\n",
      "\u001b[1;31mType:\u001b[0m           type\n",
      "\u001b[1;31mSubclasses:\u001b[0m     DeferredConfigString, _rstr, LSString, include, Keys, InputMode, ColorDepth, CompleteStyle, SortKey, FoldedCase, ...\n"
     ]
    }
   ],
   "source": [
    "str?"
   ]
  },
  {
   "cell_type": "code",
   "execution_count": null,
   "metadata": {},
   "outputs": [],
   "source": []
  }
 ],
 "metadata": {
  "kernelspec": {
   "display_name": "Python 3.10.4 ('subtlerealm')",
   "language": "python",
   "name": "python3"
  },
  "language_info": {
   "codemirror_mode": {
    "name": "ipython",
    "version": 3
   },
   "file_extension": ".py",
   "mimetype": "text/x-python",
   "name": "python",
   "nbconvert_exporter": "python",
   "pygments_lexer": "ipython3",
   "version": "3.10.4"
  },
  "orig_nbformat": 4,
  "vscode": {
   "interpreter": {
    "hash": "814d5d771e68dc157ba810643fdba39766f9f5afe62c8678db2cc909f2f1cd97"
   }
  }
 },
 "nbformat": 4,
 "nbformat_minor": 2
}

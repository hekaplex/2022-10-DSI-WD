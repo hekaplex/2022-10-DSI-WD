{
 "cells": [
  {
   "cell_type": "code",
   "execution_count": 1,
   "metadata": {},
   "outputs": [
    {
     "name": "stdout",
     "output_type": "stream",
     "text": [
      "Collecting sas7bdat_converterNote: you may need to restart the kernel to use updated packages.\n"
     ]
    },
    {
     "name": "stderr",
     "output_type": "stream",
     "text": [
      "WARNING: Ignoring invalid distribution -ywin32 (c:\\users\\andre\\appdata\\roaming\\python\\python39\\site-packages)\n",
      "WARNING: Ignoring invalid distribution -p (c:\\python39\\lib\\site-packages)\n",
      "WARNING: Ignoring invalid distribution -p (c:\\python39\\lib\\site-packages)\n",
      "WARNING: Ignoring invalid distribution -ip (c:\\python39\\lib\\site-packages)\n",
      "WARNING: Ignoring invalid distribution - (c:\\python39\\lib\\site-packages)\n",
      "WARNING: Ignoring invalid distribution -ywin32 (c:\\users\\andre\\appdata\\roaming\\python\\python39\\site-packages)\n",
      "WARNING: Ignoring invalid distribution -p (c:\\python39\\lib\\site-packages)\n",
      "WARNING: Ignoring invalid distribution -p (c:\\python39\\lib\\site-packages)\n",
      "WARNING: Ignoring invalid distribution -ip (c:\\python39\\lib\\site-packages)\n",
      "WARNING: Ignoring invalid distribution - (c:\\python39\\lib\\site-packages)\n",
      "WARNING: Ignoring invalid distribution -ywin32 (c:\\users\\andre\\appdata\\roaming\\python\\python39\\site-packages)\n",
      "WARNING: Ignoring invalid distribution -p (c:\\python39\\lib\\site-packages)\n",
      "WARNING: Ignoring invalid distribution -p (c:\\python39\\lib\\site-packages)\n",
      "WARNING: Ignoring invalid distribution -ip (c:\\python39\\lib\\site-packages)\n",
      "WARNING: Ignoring invalid distribution - (c:\\python39\\lib\\site-packages)\n",
      "WARNING: Ignoring invalid distribution -p (c:\\python39\\lib\\site-packages)\n",
      "WARNING: Ignoring invalid distribution -ywin32 (c:\\python39\\lib\\site-packages)\n",
      "WARNING: Ignoring invalid distribution -p (c:\\python39\\lib\\site-packages)\n",
      "WARNING: Ignoring invalid distribution -ip (c:\\python39\\lib\\site-packages)\n"
     ]
    },
    {
     "name": "stdout",
     "output_type": "stream",
     "text": [
      "\n",
      "  Downloading sas7bdat_converter-1.1.0-py3-none-any.whl (7.5 kB)\n",
      "Requirement already satisfied: pandas<2.0.0,>=1.2.0 in c:\\python39\\lib\\site-packages (from sas7bdat_converter) (1.2.4)\n",
      "Requirement already satisfied: python-dateutil>=2.7.3 in c:\\users\\andre\\appdata\\roaming\\python\\python39\\site-packages (from pandas<2.0.0,>=1.2.0->sas7bdat_converter) (2.8.1)\n",
      "Requirement already satisfied: pytz>=2017.3 in c:\\python39\\lib\\site-packages (from pandas<2.0.0,>=1.2.0->sas7bdat_converter) (2021.1)\n",
      "Requirement already satisfied: numpy>=1.16.5 in c:\\users\\andre\\appdata\\roaming\\python\\python39\\site-packages (from pandas<2.0.0,>=1.2.0->sas7bdat_converter) (1.19.5)\n",
      "Requirement already satisfied: six>=1.5 in c:\\users\\andre\\appdata\\roaming\\python\\python39\\site-packages (from python-dateutil>=2.7.3->pandas<2.0.0,>=1.2.0->sas7bdat_converter) (1.16.0)\n",
      "Installing collected packages: sas7bdat_converter\n",
      "Successfully installed sas7bdat_converter-1.1.0\n",
      "\n",
      "[notice] A new release of pip available: 22.2 -> 22.2.2\n",
      "[notice] To update, run: python.exe -m pip install --upgrade pip\n"
     ]
    },
    {
     "name": "stderr",
     "output_type": "stream",
     "text": [
      "WARNING: Ignoring invalid distribution - (c:\\python39\\lib\\site-packages)\n",
      "WARNING: Ignoring invalid distribution -ywin32 (c:\\users\\andre\\appdata\\roaming\\python\\python39\\site-packages)\n",
      "WARNING: Ignoring invalid distribution -p (c:\\python39\\lib\\site-packages)\n",
      "WARNING: Ignoring invalid distribution -p (c:\\python39\\lib\\site-packages)\n",
      "WARNING: Ignoring invalid distribution -ip (c:\\python39\\lib\\site-packages)\n",
      "WARNING: Ignoring invalid distribution - (c:\\python39\\lib\\site-packages)\n",
      "WARNING: Ignoring invalid distribution -ywin32 (c:\\users\\andre\\appdata\\roaming\\python\\python39\\site-packages)\n",
      "WARNING: Ignoring invalid distribution -ywin32 (c:\\users\\andre\\appdata\\roaming\\python\\python39\\site-packages)\n"
     ]
    }
   ],
   "source": [
    "%pip install sas7bdat_converter"
   ]
  },
  {
   "cell_type": "code",
   "execution_count": 2,
   "metadata": {},
   "outputs": [],
   "source": [
    "import sas7bdat_converter\n",
    "\n",
    "file_dicts = [\n",
    "  {\n",
    "    'sas7bdat_file': 'nehrs2021.sas7bdat',\n",
    "    'export_file': 'nehrs2021.csv',\n",
    "  }\n",
    "]\n",
    "sas7bdat_converter.batch_to_csv(file_dicts)"
   ]
  },
  {
   "cell_type": "code",
   "execution_count": null,
   "metadata": {},
   "outputs": [],
   "source": []
  }
 ],
 "metadata": {
  "kernelspec": {
   "display_name": "Python 3.9.5 64-bit",
   "language": "python",
   "name": "python3"
  },
  "language_info": {
   "codemirror_mode": {
    "name": "ipython",
    "version": 3
   },
   "file_extension": ".py",
   "mimetype": "text/x-python",
   "name": "python",
   "nbconvert_exporter": "python",
   "pygments_lexer": "ipython3",
   "version": "3.9.5"
  },
  "orig_nbformat": 4,
  "vscode": {
   "interpreter": {
    "hash": "81794d4967e6c3204c66dcd87b604927b115b27c00565d3d43f05ba2f3a2cb0d"
   }
  }
 },
 "nbformat": 4,
 "nbformat_minor": 2
}

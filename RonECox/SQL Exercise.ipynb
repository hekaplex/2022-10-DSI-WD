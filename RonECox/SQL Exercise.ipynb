{
    "metadata": {
        "kernelspec": {
            "name": "SQL",
            "display_name": "SQL",
            "language": "sql"
        },
        "language_info": {
            "name": "sql",
            "version": ""
        }
    },
    "nbformat_minor": 2,
    "nbformat": 4,
    "cells": [
        {
            "cell_type": "markdown",
            "source": [
                "### SQL Exercise One\r\n",
                "1. Pick one or more database from any server \r\n",
                "1. Write three queries\r\n",
                "    1. Write a business question\r\n",
                "    1. use across your queries all of the following clauses, at least one but not in very query \r\n",
                "        1. JOIN\r\n",
                "        1. WHERE\r\n",
                "        1. HAVING\r\n",
                "        1. Aggregate function *SUM, COUNT, AVG. etc*\r\n",
                "        1. IIF\r\n",
                "        1. FROM \r\n",
                "        1. GROUP BY\r\n",
                "        1. ORDER BY\r\n",
                "1. Include the results \r\n",
                "    1. inline in Data Studio notebook\r\n",
                "    1. in Excel\r\n",
                "    1. inline in the .SQL files\r\n",
                "1. Commit work to GIthub when complete\r\n",
                "1. Ask for help if you get stuck        "
            ],
            "metadata": {
                "azdata_cell_guid": "5df36851-5a07-4988-9f24-b332f57fd55b"
            },
            "attachments": {}
        },
        {
            "cell_type": "markdown",
            "source": [
                "## Business Question:\r\n",
                "### Which sales people are the top performers based on average sales?\r\n",
                "\r\n",
                "__This query includes the following requirements:__\r\n",
                "\r\n",
                "- Join\r\n",
                "- Having\r\n",
                "- Aggregate\r\n",
                "- IIF\r\n",
                "- From\r\n",
                "- Group By\r\n",
                "- Order By"
            ],
            "metadata": {
                "azdata_cell_guid": "cae20b9f-e0fc-4cda-a867-912319731947"
            },
            "attachments": {}
        },
        {
            "cell_type": "code",
            "source": [
                "SELECT SalesPersonID, AVG(TotalDue) AS TotalSales, IIF(AVG(TotalDue) > 25000, 'Top Performer', 'No Bonus') AS EmpSalesStatus\r\n",
                "\r\n",
                "FROM Sales.SalesOrderHeader AS tSales\r\n",
                "\r\n",
                "INNER JOIN Sales.SalesPerson as tPerson ON tPerson.BusinessEntityID = tSales.SalesPersonID\r\n",
                "\r\n",
                "GROUP BY SalesPersonID\r\n",
                "\r\n",
                "HAVING IIF(AVG(TotalDue) > 25000, 'Top Performer', 'No Bonus') = 'Top Performer'\r\n",
                "\r\n",
                "ORDER BY TotalSales DESC"
            ],
            "metadata": {
                "azdata_cell_guid": "e3b04b77-4500-4495-910a-236a9d9e75fa",
                "language": "sql"
            },
            "outputs": [
                {
                    "output_type": "display_data",
                    "data": {
                        "text/html": "(6 rows affected)"
                    },
                    "metadata": {}
                },
                {
                    "output_type": "display_data",
                    "data": {
                        "text/html": "Total execution time: 00:00:00.065"
                    },
                    "metadata": {}
                },
                {
                    "output_type": "execute_result",
                    "metadata": {},
                    "execution_count": 9,
                    "data": {
                        "application/vnd.dataresource+json": {
                            "schema": {
                                "fields": [
                                    {
                                        "name": "SalesPersonID"
                                    },
                                    {
                                        "name": "TotalSales"
                                    },
                                    {
                                        "name": "EmpSalesStatus"
                                    }
                                ]
                            },
                            "data": [
                                {
                                    "0": "280",
                                    "1": "39455.2223",
                                    "2": "Top Performer"
                                },
                                {
                                    "0": "281",
                                    "1": "29998.2143",
                                    "2": "Top Performer"
                                },
                                {
                                    "0": "290",
                                    "1": "29074.1554",
                                    "2": "Top Performer"
                                },
                                {
                                    "0": "276",
                                    "1": "27978.5144",
                                    "2": "Top Performer"
                                },
                                {
                                    "0": "289",
                                    "1": "27543.4624",
                                    "2": "Top Performer"
                                },
                                {
                                    "0": "274",
                                    "1": "25748.6342",
                                    "2": "Top Performer"
                                }
                            ]
                        },
                        "text/html": [
                            "<table>",
                            "<tr><th>SalesPersonID</th><th>TotalSales</th><th>EmpSalesStatus</th></tr>",
                            "<tr><td>280</td><td>39455.2223</td><td>Top Performer</td></tr>",
                            "<tr><td>281</td><td>29998.2143</td><td>Top Performer</td></tr>",
                            "<tr><td>290</td><td>29074.1554</td><td>Top Performer</td></tr>",
                            "<tr><td>276</td><td>27978.5144</td><td>Top Performer</td></tr>",
                            "<tr><td>289</td><td>27543.4624</td><td>Top Performer</td></tr>",
                            "<tr><td>274</td><td>25748.6342</td><td>Top Performer</td></tr>",
                            "</table>"
                        ]
                    }
                }
            ],
            "execution_count": 9
        },
        {
            "cell_type": "markdown",
            "source": [
                "## Business Question:\r\n",
                "### Which employees will NOT receive a bonus?\r\n",
                "\r\n",
                "__This query includes the following requirements:__\r\n",
                "\r\n",
                "- Join\r\n",
                "- Where\r\n",
                "- Having\r\n",
                "- Aggregate\r\n",
                "- IIF\r\n",
                "- From\r\n",
                "- Group By\r\n",
                "- Order By"
            ],
            "metadata": {
                "azdata_cell_guid": "b2488504-8b81-47dd-9819-7de97c8ee7f9"
            },
            "attachments": {}
        },
        {
            "cell_type": "code",
            "source": [
                "SELECT *\r\n",
                "\r\n",
                "FROM\r\n",
                "\r\n",
                "(SELECT SalesPersonID, AVG(TotalDue) AS TotalSales, IIF(AVG(TotalDue) > 25000, 'Top Performer', 'No Bonus') AS EmpSalesStatus\r\n",
                "\r\n",
                "FROM Sales.SalesOrderHeader AS tSales\r\n",
                "\r\n",
                "INNER JOIN Sales.SalesPerson as tPerson ON tPerson.BusinessEntityID = tSales.SalesPersonID\r\n",
                "\r\n",
                "GROUP BY SalesPersonID) AS Subqry\r\n",
                "\r\n",
                "WHERE EmpSalesStatus = 'No Bonus'\r\n",
                "\r\n",
                "ORDER BY SalesPersonID"
            ],
            "metadata": {
                "azdata_cell_guid": "89266981-4902-4ec7-8b9b-0a541c4a5786",
                "language": "sql"
            },
            "outputs": [
                {
                    "output_type": "display_data",
                    "data": {
                        "text/html": "(11 rows affected)"
                    },
                    "metadata": {}
                },
                {
                    "output_type": "display_data",
                    "data": {
                        "text/html": "Total execution time: 00:00:00.075"
                    },
                    "metadata": {}
                },
                {
                    "output_type": "execute_result",
                    "metadata": {},
                    "execution_count": 13,
                    "data": {
                        "application/vnd.dataresource+json": {
                            "schema": {
                                "fields": [
                                    {
                                        "name": "SalesPersonID"
                                    },
                                    {
                                        "name": "TotalSales"
                                    },
                                    {
                                        "name": "EmpSalesStatus"
                                    }
                                ]
                            },
                            "data": [
                                {
                                    "0": "275",
                                    "1": "23278.5935",
                                    "2": "No Bonus"
                                },
                                {
                                    "0": "277",
                                    "1": "23979.6742",
                                    "2": "No Bonus"
                                },
                                {
                                    "0": "278",
                                    "1": "17390.6932",
                                    "2": "No Bonus"
                                },
                                {
                                    "0": "279",
                                    "1": "18848.6565",
                                    "2": "No Bonus"
                                },
                                {
                                    "0": "282",
                                    "1": "24662.4968",
                                    "2": "No Bonus"
                                },
                                {
                                    "0": "283",
                                    "1": "22263.9926",
                                    "2": "No Bonus"
                                },
                                {
                                    "0": "284",
                                    "1": "18629.4026",
                                    "2": "No Bonus"
                                },
                                {
                                    "0": "285",
                                    "1": "12220.5489",
                                    "2": "No Bonus"
                                },
                                {
                                    "0": "286",
                                    "1": "14737.9949",
                                    "2": "No Bonus"
                                },
                                {
                                    "0": "287",
                                    "1": "21190.1914",
                                    "2": "No Bonus"
                                },
                                {
                                    "0": "288",
                                    "1": "15864.5625",
                                    "2": "No Bonus"
                                }
                            ]
                        },
                        "text/html": [
                            "<table>",
                            "<tr><th>SalesPersonID</th><th>TotalSales</th><th>EmpSalesStatus</th></tr>",
                            "<tr><td>275</td><td>23278.5935</td><td>No Bonus</td></tr>",
                            "<tr><td>277</td><td>23979.6742</td><td>No Bonus</td></tr>",
                            "<tr><td>278</td><td>17390.6932</td><td>No Bonus</td></tr>",
                            "<tr><td>279</td><td>18848.6565</td><td>No Bonus</td></tr>",
                            "<tr><td>282</td><td>24662.4968</td><td>No Bonus</td></tr>",
                            "<tr><td>283</td><td>22263.9926</td><td>No Bonus</td></tr>",
                            "<tr><td>284</td><td>18629.4026</td><td>No Bonus</td></tr>",
                            "<tr><td>285</td><td>12220.5489</td><td>No Bonus</td></tr>",
                            "<tr><td>286</td><td>14737.9949</td><td>No Bonus</td></tr>",
                            "<tr><td>287</td><td>21190.1914</td><td>No Bonus</td></tr>",
                            "<tr><td>288</td><td>15864.5625</td><td>No Bonus</td></tr>",
                            "</table>"
                        ]
                    }
                }
            ],
            "execution_count": 13
        }
    ]
}